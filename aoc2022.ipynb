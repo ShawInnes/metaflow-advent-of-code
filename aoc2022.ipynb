{
 "cells": [
  {
   "cell_type": "code",
   "execution_count": 4,
   "metadata": {
    "collapsed": true
   },
   "outputs": [],
   "source": [
    "input_text = \"vJrwpWtwJgWrhcsFMMfFFhFp\\njqHRNqRjqzjGDLGLrsFMfFZSrLrFZsSL\\nPmmdzqPrVvPwwTWBwg\\nwMqvLMZHhHMvwLHjbvcjnnSBnvTQFn\\nttgJtRGJQctTZtZT\\nCrZsJsPPZsGzwwsLwLmpwMDw\"\n",
    "input_lines = input_text.split(\"\\n\")\n"
   ]
  },
  {
   "cell_type": "code",
   "execution_count": 5,
   "outputs": [
    {
     "data": {
      "text/plain": "['vJrwpWtwJgWrhcsFMMfFFhFp',\n 'jqHRNqRjqzjGDLGLrsFMfFZSrLrFZsSL',\n 'PmmdzqPrVvPwwTWBwg',\n 'wMqvLMZHhHMvwLHjbvcjnnSBnvTQFn',\n 'ttgJtRGJQctTZtZT',\n 'CrZsJsPPZsGzwwsLwLmpwMDw']"
     },
     "execution_count": 5,
     "metadata": {},
     "output_type": "execute_result"
    }
   ],
   "source": [
    "input_lines"
   ],
   "metadata": {
    "collapsed": false
   }
  },
  {
   "cell_type": "code",
   "execution_count": 27,
   "outputs": [],
   "source": [
    "input_line = \"jqHRNqRjqzjGDLGLrsFMfFZSrLrFZsSL\"\n",
    "\n",
    "def get_duplicate(input_value):\n",
    "    half_length = len(input_value) // 2\n",
    "    part1 = input_line[:half_length]\n",
    "    part2 = input_line[half_length:]\n",
    "    duplicate = list(set(part1) & set(part2))[0]\n",
    "    return duplicate"
   ],
   "metadata": {
    "collapsed": false
   }
  },
  {
   "cell_type": "code",
   "execution_count": 19,
   "outputs": [],
   "source": [
    "def get_priority(value):\n",
    "    priority = \"-abcdefghijklmnopqrstuvwxyzABCDEFGHIJKLMNOPQRSTUVWXYZ\"\n",
    "    return priority.rindex(value)\n"
   ],
   "metadata": {
    "collapsed": false
   }
  },
  {
   "cell_type": "code",
   "execution_count": 26,
   "outputs": [
    {
     "data": {
      "text/plain": "38"
     },
     "execution_count": 26,
     "metadata": {},
     "output_type": "execute_result"
    }
   ],
   "source": [
    "get_duplicate(input_line)\n",
    "get_priority()"
   ],
   "metadata": {
    "collapsed": false
   }
  },
  {
   "cell_type": "code",
   "execution_count": 37,
   "outputs": [],
   "source": [
    "input_two = \"vJrwpWtwJgWrhcsFMMfFFhFp\\njqHRNqRjqzjGDLGLrsFMfFZSrLrFZsSL\\nPmmdzqPrVvPwwTWBwg\\nwMqvLMZHhHMvwLHjbvcjnnSBnvTQFn\\nttgJtRGJQctTZtZT\\nCrZsJsPPZsGzwwsLwLmpwMDw\"\n",
    "input_lines = input_two.split(\"\\n\")"
   ],
   "metadata": {
    "collapsed": false
   }
  },
  {
   "cell_type": "code",
   "execution_count": 32,
   "outputs": [
    {
     "data": {
      "text/plain": "{'Z'}"
     },
     "execution_count": 32,
     "metadata": {},
     "output_type": "execute_result"
    }
   ],
   "source": [
    "set(input_lines[0]) & set(input_lines[1]) & set(input_lines[2])"
   ],
   "metadata": {
    "collapsed": false
   }
  },
  {
   "cell_type": "code",
   "execution_count": 30,
   "outputs": [
    {
     "data": {
      "text/plain": "18"
     },
     "execution_count": 30,
     "metadata": {},
     "output_type": "execute_result"
    }
   ],
   "source": [
    "get_priority('r')"
   ],
   "metadata": {
    "collapsed": false
   }
  },
  {
   "cell_type": "code",
   "execution_count": 33,
   "outputs": [],
   "source": [
    "import itertools as it"
   ],
   "metadata": {
    "collapsed": false
   }
  },
  {
   "cell_type": "code",
   "execution_count": 38,
   "outputs": [
    {
     "data": {
      "text/plain": "['vJrwpWtwJgWrhcsFMMfFFhFp',\n 'jqHRNqRjqzjGDLGLrsFMfFZSrLrFZsSL',\n 'PmmdzqPrVvPwwTWBwg',\n 'wMqvLMZHhHMvwLHjbvcjnnSBnvTQFn',\n 'ttgJtRGJQctTZtZT',\n 'CrZsJsPPZsGzwwsLwLmpwMDw']"
     },
     "execution_count": 38,
     "metadata": {},
     "output_type": "execute_result"
    }
   ],
   "source": [
    "input_lines"
   ],
   "metadata": {
    "collapsed": false
   }
  },
  {
   "cell_type": "code",
   "execution_count": 39,
   "outputs": [
    {
     "ename": "AttributeError",
     "evalue": "module 'itertools' has no attribute 'batched'",
     "output_type": "error",
     "traceback": [
      "\u001B[0;31m---------------------------------------------------------------------------\u001B[0m",
      "\u001B[0;31mAttributeError\u001B[0m                            Traceback (most recent call last)",
      "Cell \u001B[0;32mIn[39], line 1\u001B[0m\n\u001B[0;32m----> 1\u001B[0m \u001B[38;5;28mlist\u001B[39m(\u001B[43mit\u001B[49m\u001B[38;5;241;43m.\u001B[39;49m\u001B[43mbatched\u001B[49m(input_lines, \u001B[38;5;241m3\u001B[39m))\n",
      "\u001B[0;31mAttributeError\u001B[0m: module 'itertools' has no attribute 'batched'"
     ]
    }
   ],
   "source": [],
   "metadata": {
    "collapsed": false
   }
  },
  {
   "cell_type": "code",
   "execution_count": 45,
   "outputs": [],
   "source": [
    "import itertools\n",
    "\n",
    "def batch(iterable, size):\n",
    "    it = iter(iterable)\n",
    "    while item := list(itertools.islice(it, size)):\n",
    "        yield item"
   ],
   "metadata": {
    "collapsed": false
   }
  },
  {
   "cell_type": "code",
   "execution_count": 47,
   "outputs": [
    {
     "data": {
      "text/plain": "[['vJrwpWtwJgWrhcsFMMfFFhFp',\n  'jqHRNqRjqzjGDLGLrsFMfFZSrLrFZsSL',\n  'PmmdzqPrVvPwwTWBwg'],\n ['wMqvLMZHhHMvwLHjbvcjnnSBnvTQFn',\n  'ttgJtRGJQctTZtZT',\n  'CrZsJsPPZsGzwwsLwLmpwMDw']]"
     },
     "execution_count": 47,
     "metadata": {},
     "output_type": "execute_result"
    }
   ],
   "source": [
    "list(batch(input_lines, 3))"
   ],
   "metadata": {
    "collapsed": false
   }
  },
  {
   "cell_type": "code",
   "execution_count": null,
   "outputs": [],
   "source": [],
   "metadata": {
    "collapsed": false
   }
  }
 ],
 "metadata": {
  "kernelspec": {
   "display_name": "Python 3",
   "language": "python",
   "name": "python3"
  },
  "language_info": {
   "codemirror_mode": {
    "name": "ipython",
    "version": 2
   },
   "file_extension": ".py",
   "mimetype": "text/x-python",
   "name": "python",
   "nbconvert_exporter": "python",
   "pygments_lexer": "ipython2",
   "version": "2.7.6"
  }
 },
 "nbformat": 4,
 "nbformat_minor": 0
}

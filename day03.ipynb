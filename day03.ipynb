{
 "cells": [
  {
   "cell_type": "code",
   "execution_count": 20,
   "outputs": [],
   "source": [
    "from IPython.display import display, Markdown\n",
    "import itertools\n",
    "\n",
    "def batch(iterable, size):\n",
    "    it = iter(iterable)\n",
    "    while item := list(itertools.islice(it, size)):\n",
    "        yield item"
   ],
   "metadata": {
    "collapsed": false
   }
  },
  {
   "cell_type": "code",
   "execution_count": 3,
   "outputs": [],
   "source": [
    "def get_duplicate(rucksack):\n",
    "    half_length = len(rucksack) // 2\n",
    "    part1 = rucksack[:half_length]\n",
    "    part2 = rucksack[half_length:]\n",
    "    duplicate = list(set(part1) & set(part2))[0]\n",
    "    return duplicate"
   ],
   "metadata": {
    "collapsed": false
   }
  },
  {
   "cell_type": "code",
   "execution_count": 4,
   "outputs": [],
   "source": [
    "def get_group_badge(group):\n",
    "    duplicate = list(set(group[0]) & set(group[1]) & set(group[2]))[0]\n",
    "    return duplicate"
   ],
   "metadata": {
    "collapsed": false
   }
  },
  {
   "cell_type": "code",
   "execution_count": 16,
   "outputs": [],
   "source": [
    "priority = \"-abcdefghijklmnopqrstuvwxyzABCDEFGHIJKLMNOPQRSTUVWXYZ\"\n",
    "\n",
    "def lookup_priority(item):\n",
    "    return priority.rindex(item)"
   ],
   "metadata": {
    "collapsed": false
   }
  },
  {
   "cell_type": "code",
   "execution_count": 17,
   "outputs": [],
   "source": [
    "text_file = open(\"day03.txt\", \"r\")\n",
    "rucksacks = text_file.read().split(\"\\n\")\n",
    "groups = list(batch(rucksacks, 3))"
   ],
   "metadata": {
    "collapsed": false
   }
  },
  {
   "cell_type": "code",
   "execution_count": 21,
   "outputs": [
    {
     "data": {
      "text/plain": "<IPython.core.display.Markdown object>",
      "text/markdown": "# Part 1 Answer is 7793"
     },
     "metadata": {},
     "output_type": "display_data"
    }
   ],
   "source": [
    "duplicates = [lookup_priority(get_duplicate(rucksack)) for rucksack in rucksacks]\n",
    "part1_answer = sum(duplicates)\n",
    "display(Markdown('# Part 1 Answer is %d' % part1_answer))"
   ],
   "metadata": {
    "collapsed": false
   }
  },
  {
   "cell_type": "code",
   "execution_count": 26,
   "outputs": [
    {
     "data": {
      "text/plain": "<IPython.core.display.Markdown object>",
      "text/markdown": "# Part 2 Answer is 2499"
     },
     "metadata": {},
     "output_type": "display_data"
    }
   ],
   "source": [
    "badges = [lookup_priority(get_group_badge(group)) for group in groups]\n",
    "part2_answer = sum(badges)\n",
    "display(Markdown('# Part 2 Answer is %d' % part2_answer))"
   ],
   "metadata": {
    "collapsed": false
   }
  }
 ],
 "metadata": {
  "kernelspec": {
   "display_name": "Python 3",
   "language": "python",
   "name": "python3"
  },
  "language_info": {
   "codemirror_mode": {
    "name": "ipython",
    "version": 2
   },
   "file_extension": ".py",
   "mimetype": "text/x-python",
   "name": "python",
   "nbconvert_exporter": "python",
   "pygments_lexer": "ipython2",
   "version": "2.7.6"
  }
 },
 "nbformat": 4,
 "nbformat_minor": 0
}

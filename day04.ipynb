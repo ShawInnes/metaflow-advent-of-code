{
 "cells": [
  {
   "cell_type": "code",
   "execution_count": 1,
   "outputs": [],
   "source": [
    "from IPython.display import display, Markdown\n",
    "import itertools\n"
   ],
   "metadata": {
    "collapsed": false
   }
  },
  {
   "cell_type": "code",
   "execution_count": 3,
   "outputs": [],
   "source": [
    "def process_part1(input):\n",
    "    split_input = input.split(',')\n",
    "    section_assignment_a = split_input[0].split('-')\n",
    "    section_assignment_b = split_input[1].split('-')\n",
    "\n",
    "    range_a_start = int(section_assignment_a[0])\n",
    "    range_a_end = int(section_assignment_a[1])\n",
    "    range_a = set(range(range_a_start, range_a_end + 1))\n",
    "\n",
    "    range_b_start = int(section_assignment_b[0])\n",
    "    range_b_end = int(section_assignment_b[1])\n",
    "    range_b = set(range(range_b_start, range_b_end + 1))\n",
    "\n",
    "    return range_a.issubset(range_b) | range_b.issubset(range_a)\n"
   ],
   "metadata": {
    "collapsed": false
   }
  },
  {
   "cell_type": "code",
   "execution_count": 4,
   "outputs": [],
   "source": [
    "def process_part2(input):\n",
    "    split_input = input.split(',')\n",
    "    section_assignment_a = split_input[0].split('-')\n",
    "    section_assignment_b = split_input[1].split('-')\n",
    "\n",
    "    range_a_start = int(section_assignment_a[0])\n",
    "    range_a_end = int(section_assignment_a[1])\n",
    "    range_a = set(range(range_a_start, range_a_end + 1))\n",
    "\n",
    "    range_b_start = int(section_assignment_b[0])\n",
    "    range_b_end = int(section_assignment_b[1])\n",
    "    range_b = set(range(range_b_start, range_b_end + 1))\n",
    "\n",
    "    return range_a.isdisjoint(range_b)"
   ],
   "metadata": {
    "collapsed": false
   }
  },
  {
   "cell_type": "code",
   "execution_count": 5,
   "outputs": [],
   "source": [
    "text_file = open(\"day04.txt\", \"r\")\n",
    "data_blocks = text_file.read().split(\"\\n\")"
   ],
   "metadata": {
    "collapsed": false
   }
  },
  {
   "cell_type": "code",
   "execution_count": 6,
   "outputs": [
    {
     "data": {
      "text/plain": "<IPython.core.display.Markdown object>",
      "text/markdown": "# Part 1 Answer is 532"
     },
     "metadata": {},
     "output_type": "display_data"
    }
   ],
   "source": [
    "part1 = [process_part1(line) for line in data_blocks]\n",
    "part1_answer = part1.count(True)\n",
    "display(Markdown('# Part 1 Answer is %d' % part1_answer))"
   ],
   "metadata": {
    "collapsed": false
   }
  },
  {
   "cell_type": "code",
   "execution_count": 7,
   "outputs": [
    {
     "data": {
      "text/plain": "<IPython.core.display.Markdown object>",
      "text/markdown": "# Part 2 Answer is 854"
     },
     "metadata": {},
     "output_type": "display_data"
    }
   ],
   "source": [
    "part2 = [process_part2(line) for line in data_blocks]\n",
    "part2_answer = part2.count(False)\n",
    "display(Markdown('# Part 2 Answer is %d' % part2_answer))"
   ],
   "metadata": {
    "collapsed": false
   }
  },
  {
   "cell_type": "code",
   "execution_count": null,
   "outputs": [],
   "source": [],
   "metadata": {
    "collapsed": false
   }
  }
 ],
 "metadata": {
  "kernelspec": {
   "display_name": "Python 3",
   "language": "python",
   "name": "python3"
  },
  "language_info": {
   "codemirror_mode": {
    "name": "ipython",
    "version": 2
   },
   "file_extension": ".py",
   "mimetype": "text/x-python",
   "name": "python",
   "nbconvert_exporter": "python",
   "pygments_lexer": "ipython2",
   "version": "2.7.6"
  }
 },
 "nbformat": 4,
 "nbformat_minor": 0
}
